{
 "cells": [
  {
   "cell_type": "markdown",
   "metadata": {},
   "source": [
    "## Python 3 packages"
   ]
  },
  {
   "cell_type": "markdown",
   "metadata": {},
   "source": [
    "#### Use this notebook to test your current packages if necessary (it is kind of a test for using notebooks with venv as well)"
   ]
  },
  {
   "cell_type": "code",
   "execution_count": null,
   "metadata": {},
   "outputs": [],
   "source": [
    "import pandas as pd\n",
    "import matplotlib\n",
    "import sys\n",
    "from pathlib import Path\n",
    "from datetime import datetime as dt\n",
    "import numpy as np\n",
    "from sklearn import datasets\n",
    "from sklearn.model_selection import train_test_split\n",
    "from sklearn import metrics"
   ]
  },
  {
   "cell_type": "markdown",
   "metadata": {},
   "source": [
    "### Some easy excercises"
   ]
  },
  {
   "cell_type": "markdown",
   "metadata": {},
   "source": [
    "##### Max corr from arrays"
   ]
  },
  {
   "cell_type": "code",
   "execution_count": null,
   "metadata": {},
   "outputs": [],
   "source": [
    "import pandas as pd\n",
    "import numpy as np\n",
    "\n",
    "def most_corr(prices):\n",
    "    \"\"\"\n",
    "    :param prices: (pandas.DataFrame) A dataframe containing each ticker's \n",
    "                   daily closing prices.\n",
    "    :returns: (container of strings) A container, containing the two tickers that \n",
    "              are the most highly (linearly) correlated by daily percentage change.\n",
    "    \"\"\"\n",
    "    df_ch = prices.pct_change()\n",
    "    df_corr = df_ch.corr()\n",
    "    aux_i = 0\n",
    "    aux_j = 0\n",
    "    aux_max = 0\n",
    "    for i in range(df_corr.shape[0]):\n",
    "        for j in range(df_corr.shape[0]):\n",
    "            if i>j:\n",
    "                if df_corr.iloc[i,j]>aux_max:\n",
    "                    aux_max = df_corr.iloc[i,j]\n",
    "                    aux_i = i\n",
    "                    aux_j = j\n",
    "    corr_list = prices.columns.values[[aux_i, aux_j]]\n",
    "    return corr_list\n",
    "\n",
    "#For example, the code below should print: ('FB', 'MSFT')\n",
    "print(most_corr(pd.DataFrame.from_dict({\n",
    "    'GOOG' : [\n",
    "        742.66, 738.40, 738.22, 741.16,\n",
    "        739.98, 747.28, 746.22, 741.80,\n",
    "        745.33, 741.29, 742.83, 750.50\n",
    "    ],\n",
    "    'FB' : [\n",
    "        108.40, 107.92, 109.64, 112.22,\n",
    "        109.57, 113.82, 114.03, 112.24,\n",
    "        114.68, 112.92, 113.28, 115.40\n",
    "    ],\n",
    "    'MSFT' : [\n",
    "        55.40, 54.63, 54.98, 55.88,\n",
    "        54.12, 59.16, 58.14, 55.97,\n",
    "        61.20, 57.14, 56.62, 59.25\n",
    "    ],\n",
    "    'AAPL' : [\n",
    "        106.00, 104.66, 104.87, 105.69,\n",
    "        104.22, 110.16, 109.84, 108.86,\n",
    "        110.14, 107.66, 108.08, 109.90\n",
    "    ]\n",
    "})))"
   ]
  },
  {
   "cell_type": "markdown",
   "metadata": {},
   "source": [
    "##### BFS"
   ]
  },
  {
   "cell_type": "code",
   "execution_count": null,
   "metadata": {
    "scrolled": true
   },
   "outputs": [],
   "source": [
    "import collections\n",
    "\n",
    "Node = collections.namedtuple('Node', ['left', 'right', 'value'])\n",
    "\n",
    "def contains(root, value):\n",
    "    contained = (root.value == value)\n",
    "    if not contained:\n",
    "        if root.value > value:\n",
    "            if root.left is None:\n",
    "                contained = False\n",
    "            else:\n",
    "                contained = contains(root.left, value)\n",
    "        else:\n",
    "            if root.right is None:\n",
    "                contained = False\n",
    "            else:\n",
    "                contained = contains(root.right, value)\n",
    "    return contained\n",
    "        \n",
    "n1 = Node(value=1, left=None, right=None)\n",
    "n3 = Node(value=3, left=None, right=None)\n",
    "n2 = Node(value=2, left=n1, right=n3)\n",
    "        \n",
    "print(contains(n2, 3))"
   ]
  },
  {
   "cell_type": "markdown",
   "metadata": {},
   "source": [
    "##### Repeating Playlist"
   ]
  },
  {
   "cell_type": "code",
   "execution_count": null,
   "metadata": {},
   "outputs": [],
   "source": [
    "class Song:\n",
    "    def __init__(self, name):\n",
    "        self.name = name\n",
    "        self.next = None\n",
    "\n",
    "    def next_song(self, song):\n",
    "        self.next = song \n",
    "    \n",
    "    def is_repeating_playlist(self):\n",
    "        \"\"\"\n",
    "        :returns: (bool) True if the playlist is repeating, False if not.\n",
    "        \"\"\"\n",
    "        last_song = self.next is None\n",
    "        repeating = False\n",
    "        songs = set([self.name])\n",
    "        aux_next = self.next\n",
    "        while not last_song and not repeating:\n",
    "            if aux_next.name in songs:\n",
    "                repeating = True\n",
    "            else:\n",
    "                songs.add(aux_next.name)\n",
    "                aux_next = aux_next.next\n",
    "                last_song = aux_next is None\n",
    "                \n",
    "        return repeating\n",
    "            \n",
    "first = Song(\"Hello\")\n",
    "second = Song(\"Eye of the tiger\")\n",
    "    \n",
    "first.next_song(second)\n",
    "second.next_song(first)\n",
    "    \n",
    "print(first.is_repeating_playlist())"
   ]
  },
  {
   "cell_type": "markdown",
   "metadata": {},
   "source": [
    "##### Two Sum"
   ]
  },
  {
   "cell_type": "code",
   "execution_count": null,
   "metadata": {},
   "outputs": [],
   "source": [
    "def find_two_sum(numbers, target_sum):\n",
    "    \"\"\"\n",
    "    :param numbers: (list of ints) The list of numbers.\n",
    "    :param target_sum: (int) The required target sum.\n",
    "    :returns: (a tuple of 2 ints) The indices of the two elements whose sum is equal to target_sum\n",
    "    \"\"\"\n",
    "    answer_found = False\n",
    "    answer = None\n",
    "    i = 0\n",
    "    j = 0\n",
    "    max_i = len(numbers)-1\n",
    "    while not answer_found and i<max_i-1:\n",
    "        j = j+1\n",
    "        answer_found = numbers[i] + numbers[j] == target_sum\n",
    "        if answer_found:\n",
    "            answer = (i,j)\n",
    "        if j == max_i-1:\n",
    "            i = i+1\n",
    "            j = i\n",
    "    return answer\n",
    "\n",
    "\n",
    "if __name__ == \"__main__\":\n",
    "    print(find_two_sum([2, 1, 4, 7, 5, 9], 10))"
   ]
  },
  {
   "cell_type": "markdown",
   "metadata": {},
   "source": [
    "##### median values ( simple exercise )"
   ]
  },
  {
   "cell_type": "code",
   "execution_count": null,
   "metadata": {},
   "outputs": [],
   "source": [
    "import numpy as np\n",
    "\n",
    "def median(values):\n",
    "    return np.median(values)\n",
    "\n",
    "values = [1, 2, 6]\n",
    "print(median(values))"
   ]
  },
  {
   "cell_type": "markdown",
   "metadata": {},
   "source": [
    "##### class grades"
   ]
  },
  {
   "cell_type": "code",
   "execution_count": null,
   "metadata": {},
   "outputs": [],
   "source": [
    "import pandas as pd\n",
    "import numpy as np\n",
    "\n",
    "def class_grades(students):\n",
    "    \"\"\"\n",
    "    :param students: (list) Each element of the list is another list with the \n",
    "      following elements: Student name (string), class name (string), student grade (int).\n",
    "    :returns: (list) Each element is a list with the following \n",
    "      elements: Class name (string), median grade for students in the class (float).\n",
    "    \"\"\"\n",
    "    aux_dir = {}\n",
    "    for i in range(len(students)):\n",
    "        aux_list = students[i]\n",
    "        aux_class = aux_list[1]\n",
    "        if aux_class in aux_dir.keys():\n",
    "            aux_dir[aux_class].append(aux_list[2])\n",
    "        else:\n",
    "            aux_dir[aux_class] = [aux_list[2]]\n",
    "    aux_list = []\n",
    "    \n",
    "    for key,value in aux_dir.items():\n",
    "        aux_list.append([key, np.median(value)])\n",
    "        \n",
    "    return aux_list\n",
    "\n",
    "students = [[\"Ana Stevens\", \"1a\", 5], [\"Mark Stevens\", \"1a\", 4], [\"Jon Jones\", \"1a\", 2], [\"Bob Kent\", \"1b\", 4]]\n",
    "print(class_grades(students))"
   ]
  },
  {
   "cell_type": "code",
   "execution_count": null,
   "metadata": {},
   "outputs": [],
   "source": []
  }
 ],
 "metadata": {
  "kernelspec": {
   "display_name": "data",
   "language": "python",
   "name": "data"
  },
  "language_info": {
   "codemirror_mode": {
    "name": "ipython",
    "version": 3
   },
   "file_extension": ".py",
   "mimetype": "text/x-python",
   "name": "python",
   "nbconvert_exporter": "python",
   "pygments_lexer": "ipython3",
   "version": "3.7.3"
  }
 },
 "nbformat": 4,
 "nbformat_minor": 4
}
